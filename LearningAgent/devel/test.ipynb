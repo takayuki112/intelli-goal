{
 "cells": [
  {
   "cell_type": "code",
   "execution_count": 1,
   "metadata": {},
   "outputs": [
    {
     "name": "stderr",
     "output_type": "stream",
     "text": [
      "C:\\Users\\aarya\\AppData\\Local\\Packages\\PythonSoftwareFoundation.Python.3.11_qbz5n2kfra8p0\\LocalCache\\local-packages\\Python311\\site-packages\\gym\\spaces\\box.py:127: UserWarning: \u001b[33mWARN: Box bound precision lowered by casting to float32\u001b[0m\n",
      "  logger.warn(f\"Box bound precision lowered by casting to {self.dtype}\")\n"
     ]
    }
   ],
   "source": [
    "import gym\n",
    "import numpy as np\n",
    "import pygame\n",
    "from gym import spaces\n",
    "import random\n",
    "import math\n",
    "\n",
    "class CustomEnv(gym.Env):\n",
    "    metadata = {'render.modes': ['human']}\n",
    "\n",
    "    def __init__(self):\n",
    "        super(CustomEnv, self).__init__()\n",
    "        self.screen_width = 1240\n",
    "        self.screen_height = 800\n",
    "        self.player_speed = 5\n",
    "        self.goal_speed = 0\n",
    "        self.action_space = spaces.Discrete(5)  # Define action space (0: Noop, 1: Up, 2: Down, 3: Left, 4: Right)\n",
    "        self.observation_space = spaces.Box(low=np.array([0, 0]), high=np.array([self.screen_width, self.screen_height]), dtype=np.float32)  # Define observation space\n",
    "        self.goal_radius = 20\n",
    "        self.border_width = 10\n",
    "        self.state = None\n",
    "        self.steps_beyond_done = None\n",
    "        self.screen = None\n",
    "        self.clock = pygame.time.Clock()\n",
    "\n",
    "    def step(self, action):\n",
    "        assert self.action_space.contains(action), \"%r (%s) invalid\" % (action, type(action))\n",
    "        player_x, player_y, goal_x, goal_y = self.state\n",
    "        player_x += (action == 3) * -self.player_speed + (action == 4) * self.player_speed\n",
    "        player_y += (action == 1) * -self.player_speed + (action == 2) * self.player_speed\n",
    "\n",
    "        # Ensure the player stays within the screen bounds\n",
    "        player_x = np.clip(player_x, self.border_width, self.screen_width - self.border_width)\n",
    "        player_y = np.clip(player_y, self.border_width, self.screen_height - self.border_width)\n",
    "\n",
    "        self.state = (player_x, player_y, goal_x, goal_y)\n",
    "        \n",
    "        # Calculate reward, done, and info\n",
    "        done = math.sqrt((player_x - goal_x) ** 2 + (player_y - goal_y) ** 2) < self.goal_radius\n",
    "        reward = 1 if done else 0\n",
    "        info = {}\n",
    "\n",
    "        return np.array(self.state), reward, done, info\n",
    "\n",
    "    def reset(self):\n",
    "        self.state = (self.screen_width // 2, self.screen_height // 2, random.randint(self.border_width, self.screen_width - self.border_width), random.randint(self.border_width, self.screen_height - self.border_width))\n",
    "        self.steps_beyond_done = None\n",
    "        return np.array(self.state)\n",
    "\n",
    "    def render(self, mode='human'):\n",
    "        if self.screen is None:\n",
    "            pygame.init()\n",
    "            self.screen = pygame.display.set_mode((self.screen_width, self.screen_height))\n",
    "        self.screen.fill((0, 0, 0))\n",
    "        player_x, player_y, goal_x, goal_y = self.state\n",
    "        pygame.draw.circle(self.screen, (255, 0, 0), (int(player_x), int(player_y)), 10)\n",
    "        pygame.draw.circle(self.screen, (0, 0, 255), (int(goal_x), int(goal_y)), self.goal_radius)\n",
    "        pygame.display.flip()\n",
    "        self.clock.tick(60)\n",
    "\n",
    "    def close(self):\n",
    "        if self.screen is not None:\n",
    "            pygame.quit()\n",
    "            self.screen = None\n",
    "\n",
    "# Test the environment\n",
    "if __name__ == \"__main__\":\n",
    "    env = CustomEnv()\n",
    "    observation = env.reset()\n",
    "    for _ in range(1000):\n",
    "        action = env.action_space.sample()  # Take a random action\n",
    "        observation, reward, done, info = env.step(action)\n",
    "        env.render()\n",
    "        if done:\n",
    "            observation = env.reset()\n",
    "    env.close()\n"
   ]
  }
 ],
 "metadata": {
  "kernelspec": {
   "display_name": "Python 3",
   "language": "python",
   "name": "python3"
  },
  "language_info": {
   "codemirror_mode": {
    "name": "ipython",
    "version": 3
   },
   "file_extension": ".py",
   "mimetype": "text/x-python",
   "name": "python",
   "nbconvert_exporter": "python",
   "pygments_lexer": "ipython3",
   "version": "3.11.9"
  }
 },
 "nbformat": 4,
 "nbformat_minor": 2
}
